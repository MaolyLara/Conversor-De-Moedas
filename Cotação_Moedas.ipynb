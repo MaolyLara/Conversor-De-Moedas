{
  "nbformat": 4,
  "nbformat_minor": 0,
  "metadata": {
    "colab": {
      "name": "Cotação_Moedas.ipynb",
      "provenance": [],
      "authorship_tag": "ABX9TyPLqgZLxxUbFrauBvZ/jHdY",
      "include_colab_link": true
    },
    "kernelspec": {
      "name": "python3",
      "display_name": "Python 3"
    },
    "language_info": {
      "name": "python"
    }
  },
  "cells": [
    {
      "cell_type": "markdown",
      "metadata": {
        "id": "view-in-github",
        "colab_type": "text"
      },
      "source": [
        "<a href=\"https://colab.research.google.com/github/MaolyLaraSerrano/Conversor-De-Moedas/blob/master/Cota%C3%A7%C3%A3o_Moedas.ipynb\" target=\"_parent\"><img src=\"https://colab.research.google.com/assets/colab-badge.svg\" alt=\"Open In Colab\"/></a>"
      ]
    },
    {
      "cell_type": "code",
      "metadata": {
        "colab": {
          "base_uri": "https://localhost:8080/"
        },
        "id": "g4gbtIh8UI5E",
        "outputId": "4abd5f0b-6452-4b5d-cb9e-1dbf07d71fdf"
      },
      "source": [
        "import requests\n",
        "import json\n",
        "\n",
        "cotacoes = requests.get(\"https://economia.awesomeapi.com.br/last/USD-BRL,EUR-BRL,BTC-BRL\")\n",
        "cotacoes = cotacoes.json()\n",
        "cotacoes_dolar = cotacoes['USDBRL'] [\"bid\"]\n",
        "print(cotacoes)\n",
        "print(cotacoes_dolar)\n",
        "\n"
      ],
      "execution_count": null,
      "outputs": [
        {
          "output_type": "stream",
          "name": "stdout",
          "text": [
            "{'USDBRL': {'code': 'USD', 'codein': 'BRL', 'name': 'Dólar Americano/Real Brasileiro', 'high': '5.4433', 'low': '5.3727', 'varBid': '-0.068', 'pctChange': '-1.25', 'bid': '5.3742', 'ask': '5.3753', 'timestamp': '1633102133', 'create_date': '2021-10-01 12:28:53'}, 'EURBRL': {'code': 'EUR', 'codein': 'BRL', 'name': 'Euro/Real Brasileiro', 'high': '6.3163', 'low': '6.2294', 'varBid': '-0.0734', 'pctChange': '-1.16', 'bid': '6.2282', 'ask': '6.2316', 'timestamp': '1633102134', 'create_date': '2021-10-01 12:28:54'}, 'BTCBRL': {'code': 'BTC', 'codein': 'BRL', 'name': 'Bitcoin/Real Brasileiro', 'high': '257', 'low': '232.971', 'varBid': '19357', 'pctChange': '8.27', 'bid': '253.235', 'ask': '253.3', 'timestamp': '1633102138', 'create_date': '2021-10-01 12:28:58'}}\n",
            "5.3742\n"
          ]
        }
      ]
    }
  ]
}